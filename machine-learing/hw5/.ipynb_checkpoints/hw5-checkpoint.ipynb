{
 "cells": [
  {
   "cell_type": "markdown",
   "id": "7d0e323f",
   "metadata": {},
   "source": [
    "```python\n",
    "from libsvm.svmutil import *\n",
    "import numpy as np\n",
    "import random\n",
    "```"
   ]
  },
  {
   "cell_type": "markdown",
   "id": "f0eed4db",
   "metadata": {},
   "source": [
    "```python\n",
    "train_y, train_x = svm_read_problem('train.txt')\n",
    "test_y, test_x = svm_read_problem('test.txt')\n",
    "```"
   ]
  },
  {
   "cell_type": "markdown",
   "id": "adb5f675",
   "metadata": {},
   "source": [
    "```python\n",
    "#11\n",
    "train_y_11 = [-1 if x != 1 else 1 for x in train_y]\n",
    "prob11  = svm_problem(train_y_11, train_x)\n",
    "param11 = svm_parameter('-s 0 -t 0 -c 1')\n",
    "model_11 = svm_train(prob11, param11)\n",
    "\n",
    "sv = np.asarray(model_11.get_SV())\n",
    "sv_coef = np.asarray(model_11.get_sv_coef())\n",
    "sv_indices = np.asarray(model_11.get_sv_indices())\n",
    "rho = model_11.rho[0]\n",
    "\n",
    "w = np.zeros(len(train_x[0]))\n",
    "b = -rho\n",
    "# weight vector w = sum over i ( coefsi * xi )\n",
    "for index, coef in zip(sv_indices, sv_coef):\n",
    "    #print(index, coef)\n",
    "    ai = coef[0]\n",
    "    for key in train_x[index-1]:\n",
    "        #print(key)\n",
    "        w[key-1] = w[key-1] + (ai * train_x[index-1][key])\n",
    "\n",
    "print(((w**2).sum())**(1/2))\n",
    "# 6.309673609961579\n",
    "```"
   ]
  },
  {
   "cell_type": "markdown",
   "id": "a56b314f",
   "metadata": {
    "scrolled": true
   },
   "source": [
    "```python\n",
    "#12, 13\n",
    "sv = []\n",
    "err = []\n",
    "param12 = svm_parameter('-s 0 -t 1 -d 2 -g 1 -r 1 -c 1')\n",
    "for i in range(2,7):\n",
    "    train_y_12 = [-1 if x != i else 1 for x in train_y]\n",
    "    prob12  = svm_problem(train_y_12, train_x)\n",
    "    model_12 = svm_train(prob12, param12)\n",
    "    sv.append(len(model_12.get_sv_coef()))\n",
    "    p_label, p_acc, p_val = svm_predict(train_y_12, train_x, model_12,'-q')\n",
    "    err.append(1-p_acc[0]/100)\n",
    "print(err)\n",
    "print(err.index(max(err))+2)\n",
    "print(sv)\n",
    "print((min(sv)))\n",
    "\n",
    "# [0.011333333333333306, 0.006761904761904747, 0.009619047619047638, 0.014857142857142902, 0.01123809523809527]\n",
    "# 5\n",
    "# [588, 368, 499, 642, 503]\n",
    "# 368\n",
    "```"
   ]
  },
  {
   "cell_type": "markdown",
   "id": "ba526aee",
   "metadata": {
    "scrolled": true
   },
   "source": [
    "```python\n",
    "#14\n",
    "train_y_14 = [-1 if x != 7 else 1 for x in train_y]\n",
    "test_y_14 = [-1 if x != 7 else 1 for x in test_y]\n",
    "err = []\n",
    "clist = [0.01, 0.1, 1, 10, 100]\n",
    "for i in range(2,7):\n",
    "    param14 = svm_parameter(f'-s 0 -t 2 -g 1 -c {clist[i-2]}')\n",
    "    prob14  = svm_problem(train_y_14, train_x)\n",
    "    model_14 = svm_train(prob14, param14)\n",
    "    p_label, p_acc, p_val = svm_predict(test_y_14, test_x, model_14,'-q')\n",
    "    err.append(1-p_acc[0]/100)\n",
    "print(err)\n",
    "print(clist[err.index(min(err))])\n",
    "\n",
    "# [0.04519999999999991, 0.04519999999999991, 0.01419999999999999, 0.0040000000000000036, 0.00539999999999996]\n",
    "# 10\n",
    "```"
   ]
  },
  {
   "cell_type": "markdown",
   "id": "46159428",
   "metadata": {},
   "source": [
    "```python\n",
    "#15\n",
    "train_y_14 = [-1 if x != 7 else 1 for x in train_y]\n",
    "test_y_14 = [-1 if x != 7 else 1 for x in test_y]\n",
    "err = []\n",
    "glist = [0.1, 1, 10, 100, 1000]\n",
    "for i in range(2,7):\n",
    "    param14 = svm_parameter(f'-s 0 -t 2 -c 0.1 -g {glist[i-2]}')\n",
    "    prob14  = svm_problem(train_y_14, train_x)\n",
    "    model_14 = svm_train(prob14, param14)\n",
    "    p_label, p_acc, p_val = svm_predict(test_y_14, test_x, model_14,'-q')\n",
    "    err.append(1-p_acc[0]/100)\n",
    "print(err)\n",
    "print(glist[err.index(min(err))])\n",
    "\n",
    "# [0.04519999999999991, 0.04519999999999991, 0.040200000000000014, 0.04519999999999991, 0.04519999999999991]\n",
    "# 10\n",
    "```"
   ]
  },
  {
   "cell_type": "markdown",
   "id": "f87cae08",
   "metadata": {},
   "source": [
    "```python\n",
    "## 16\n",
    "train_y_14 = [-1 if x != 7 else 1 for x in train_y]\n",
    "test_y_14 = [-1 if x != 7 else 1 for x in test_y]\n",
    "glist = [0.1, 1, 10, 100, 1000]\n",
    "best_g = [0,0,0,0,0]\n",
    "\n",
    "for _ in range(500):\n",
    "    print(_)\n",
    "    random.seed(_+100)\n",
    "    draw_val = random.sample(range(0, len(train_y)), 200)\n",
    "    draw_train = [i for i in range(0,len(train_y)) if i not in draw_val]\n",
    "\n",
    "    data_train_x = [train_x[i] for i in draw_train]\n",
    "    data_val_x = [train_x[i] for i in draw_val]\n",
    "    \n",
    "    data_train_y = [train_y_14[i] for i in draw_train]\n",
    "    data_val_y = [train_y_14[i] for i in draw_val]\n",
    "    err = []\n",
    "    for i in range(5):\n",
    "        param16 = svm_parameter(f'-s 0 -t 2 -c 0.1 -g {glist[i]}')\n",
    "        prob16  = svm_problem(data_train_y, data_train_x)\n",
    "        model_16 = svm_train(prob16, param16)\n",
    "        p_label, p_acc, p_val = svm_predict(data_val_y, data_val_x, model_16,'-q')\n",
    "        err.append(1-p_acc[0]/100)\n",
    "    best_g[err.index(min(err))] += 1\n",
    "    print(_, best_g)\n",
    "print(best_g)\n",
    "# [279, 0, 221, 0, 0]\n",
    "# 0.1\n",
    "\n",
    "```"
   ]
  }
 ],
 "metadata": {
  "@webio": {
   "lastCommId": null,
   "lastKernelId": null
  },
  "kernelspec": {
   "display_name": "Python 3 (ipykernel)",
   "language": "python",
   "name": "python3"
  },
  "language_info": {
   "codemirror_mode": {
    "name": "ipython",
    "version": 3
   },
   "file_extension": ".py",
   "mimetype": "text/x-python",
   "name": "python",
   "nbconvert_exporter": "python",
   "pygments_lexer": "ipython3",
   "version": "3.8.5"
  }
 },
 "nbformat": 4,
 "nbformat_minor": 5
}
