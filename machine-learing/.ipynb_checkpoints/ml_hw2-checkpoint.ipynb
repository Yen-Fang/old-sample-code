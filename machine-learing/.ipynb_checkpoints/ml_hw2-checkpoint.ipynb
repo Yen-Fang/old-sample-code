{
 "cells": [
  {
   "cell_type": "code",
   "execution_count": 70,
   "id": "6a5e238c",
   "metadata": {},
   "outputs": [
    {
     "data": {
      "text/plain": [
       "stump (generic function with 3 methods)"
      ]
     },
     "execution_count": 70,
     "metadata": {},
     "output_type": "execute_result"
    }
   ],
   "source": [
    "using Statistics\n",
    "using Random\n",
    "\n",
    "function e_in(data, s, theta, data_size)\n",
    "    err = zeros(data_size)*1\n",
    "    \n",
    "    for i in 1:data_size\n",
    "        h = s*sign(data[i][1]-theta)\n",
    "        if h != data[i][2]\n",
    "            err[i] = 1\n",
    "        end\n",
    "    end\n",
    "    #@show err\n",
    "    #@show mean(err)\n",
    "    return mean(err)\n",
    "end\n",
    "\n",
    "function stump(tau = 0.5, data_size = 2)\n",
    "    error_out_in = zeros(10000)*1\n",
    "    for j in 1:10000 #10000\n",
    "        \n",
    "        Random.seed!(j+1000)\n",
    "        x = rand(data_size).-0.5\n",
    "        #@show x \n",
    "        flip = rand(data_size)\n",
    "        flip = flip .<= tau\n",
    "        flip = convert(Vector{Int64}, flip)\n",
    "        #@show flip\n",
    "        y = sign.(x)\n",
    "        \n",
    "        #y = convert(Vector{Int64}, y)\n",
    "        #@show y\n",
    "        y_new = y .* (1 .- 2 .* flip)\n",
    "        \n",
    "        data = collect(zip(x, y_new))\n",
    "        data = sort(data, by = t -> t[1])\n",
    "        #@show data\n",
    "        sgn = [1.0,-1.0]\n",
    "        ans = [0.0,0.0] #s,theta\n",
    "        min_e = 10000000\n",
    "        s_dot_theta = 0\n",
    "        for s in sgn\n",
    "            for i in 1:data_size-1\n",
    "                \n",
    "                theta = (data[i][1]+data[i+1][1]) / 2\n",
    "                error = e_in(data, s, theta, data_size)  \n",
    "                #@show s, theta, error\n",
    "                if (error < min_e) || ((error==min_e) && (s*theta < s_dot_theta))\n",
    "                    \n",
    "                    min_e = error\n",
    "                    s_dot_theta = s*theta\n",
    "                    ans[1] = s\n",
    "                    ans[2] = theta\n",
    "                end\n",
    "\n",
    "            end\n",
    "            theta = -1\n",
    "            error = e_in(data, s, theta, data_size)\n",
    "            #@show s, theta, error\n",
    "            if (error < min_e) || ((error==min_e) && (s*theta < s_dot_theta))\n",
    "                    \n",
    "                min_e = error\n",
    "                s_dot_theta = s*theta\n",
    "                ans[1] = s\n",
    "                ans[2] = theta\n",
    "            end\n",
    "            \n",
    "        end\n",
    "        @show \n",
    "        if ans[1]<0\n",
    "            #@show (1-tau)+min(abs(ans[2]),0.5)*(2*tau-1) - min_e\n",
    "            error_out_in[j] = (1-tau)+min(abs(ans[2]),0.5)*(2*tau-1) - min_e\n",
    "        else\n",
    "            #@show (tau)+min(abs(ans[2]),0.5)*(1-2*tau) - min_e\n",
    "            error_out_in[j] = (tau)+min(abs(ans[2]),0.5)*(1-2*tau) - min_e\n",
    "        end\n",
    "        \n",
    "    end\n",
    "    \n",
    "    return mean(error_out_in)\n",
    "end"
   ]
  },
  {
   "cell_type": "code",
   "execution_count": 71,
   "id": "32f1421c",
   "metadata": {},
   "outputs": [
    {
     "name": "stdout",
     "output_type": "stream",
     "text": [
      "0.2983566292451094\n",
      "0.003828696497570773\n",
      "0.4278488034085101\n",
      "0.014607996660204566\n"
     ]
    }
   ],
   "source": [
    "#13\n",
    "println(stump(0,2))\n",
    "#14\n",
    "println(stump(0, 128))\n",
    "#15\n",
    "println(stump(0.2,2))\n",
    "#16\n",
    "println(stump(0.2, 128))"
   ]
  },
  {
   "cell_type": "code",
   "execution_count": 102,
   "id": "3e26854e",
   "metadata": {},
   "outputs": [
    {
     "name": "stdout",
     "output_type": "stream",
     "text": [
      "0.026041666666666668\n",
      "0.078125\n",
      "0.3020833333333333\n",
      "0.34375\n"
     ]
    }
   ],
   "source": [
    "function e_in(data, s, theta, data_size,d)\n",
    "    err = zeros(data_size)*1\n",
    "    \n",
    "    for i in 1:data_size\n",
    "        h = s*sign(data[i][d]-theta)\n",
    "        if h != data[i][11]\n",
    "            err[i] = 1\n",
    "        end\n",
    "    end\n",
    "    return mean(err)\n",
    "end\n",
    "function muti_dstump(;mode = 1, test=0)\n",
    "    # mode 1: best of best / 2: worst of best\n",
    "    # test 1: test e_out\n",
    "    \n",
    "    error_out_in = zeros(10000)*1\n",
    "    x=[]\n",
    "    datafile = open(\"hw2_train.txt\",\"r\") #read the data\n",
    "    lines = readlines(datafile)\n",
    "    close(datafile)\n",
    "    for (i, line) in enumerate(lines)    \n",
    "        append!(x,[parse.(Float64, split(line,\"\\t\"))])\n",
    "    end\n",
    "    data_size = size(x)[1]\n",
    "    #@show x\n",
    "    #x:256*11\n",
    "\n",
    "    \n",
    "    sgn = [1.0,-1.0]\n",
    "    min_dim_e=0\n",
    "    if mode==1\n",
    "        min_dim_e = 10000000000\n",
    "    else\n",
    "        min_dim_e = -1000000000\n",
    "    end\n",
    "\n",
    "    ans_big = [0.0,0.0,0.0]#dim, s, theta\n",
    "    for d in 1:10\n",
    "        \n",
    "        data = sort(x, by = t -> t[d])\n",
    "        \n",
    "        min_e = 100000000000000000000\n",
    "        s_dot_theta = 10000000000000\n",
    "        ans_small = [0.0, 0.0] #s,theta\n",
    "       \n",
    "        for s in sgn\n",
    "        #@show 7    \n",
    "            for i in 1:data_size-1\n",
    "                theta = (data[i][d]+data[i+1][d]) / 2\n",
    "                error = e_in(data, s, theta, data_size,d)  \n",
    "                \n",
    "                if (error < min_e) || ((error==min_e) && (s*theta < s_dot_theta))\n",
    "                    \n",
    "                    min_e = error\n",
    "                    s_dot_theta = s*theta\n",
    "                    ans_small[1] = s\n",
    "                    ans_small[2] = theta\n",
    "                    #@show s, theta, error, i\n",
    "                end\n",
    "\n",
    "            end\n",
    "            #@show data_size\n",
    "            theta = -10000000000000000000000\n",
    "            error = e_in(data, s, theta, data_size, d)\n",
    "            #@show s, theta, error\n",
    "            if (error < min_e) || ((error==min_e) && (s*theta < s_dot_theta))   \n",
    "                min_e = error\n",
    "                s_dot_theta = s*theta\n",
    "                ans_small[1] = s\n",
    "                ans_small[2] = theta\n",
    "            end\n",
    "\n",
    "        end\n",
    "        if (min_e < min_dim_e) && mode==1\n",
    "            min_dim_e = min_e\n",
    "            ans_big[1] = d\n",
    "            ans_big[2] = ans_small[1]\n",
    "            ans_big[3] = ans_small[2]\n",
    "        end\n",
    "        if (min_e > min_dim_e) && mode==2\n",
    "            min_dim_e = min_e\n",
    "            ans_big[1] = d\n",
    "            ans_big[2] = ans_small[1]\n",
    "            ans_big[3] = ans_small[2]\n",
    "        end\n",
    "    end\n",
    "    if test==0\n",
    "        #@show 0\n",
    "        #@show ans_big\n",
    "        return(min_dim_e)\n",
    "    else\n",
    "        #@show 1\n",
    "        y=[]\n",
    "        datafile = open(\"hw2_test.txt\",\"r\") #read the data\n",
    "        lines = readlines(datafile)\n",
    "        close(datafile)\n",
    "        for (i, line) in enumerate(lines)    \n",
    "            append!(y,[parse.(Float64, split(line,\"\\t\"))])\n",
    "        end\n",
    "        #@show ans_big\n",
    "        data_size = size(y)[1]\n",
    "        \n",
    "        err = zeros(data_size)*1\n",
    "        d = trunc(Int,ans_big[1])\n",
    "        s = ans_big[2]\n",
    "        theta = ans_big[3]\n",
    "\n",
    "        for i in 1:data_size\n",
    "            h = s*sign(y[i][d]-theta)\n",
    "            if h != y[i][11]\n",
    "                err[i] = 1\n",
    "            end\n",
    "        end\n",
    "        #@show mean(err)\n",
    "        return mean(err)\n",
    "    end\n",
    "        \n",
    "end\n",
    "\n",
    "# mode 1: best of best / 2: worst of best\n",
    "# test 0: train e_in / 1: test e_out\n",
    "#17\n",
    "println(muti_dstump(mode = 1, test = 0))\n",
    "#18\n",
    "println(muti_dstump(mode = 1, test = 1))\n",
    "#19\n",
    "println(muti_dstump(mode = 2, test = 0)-muti_dstump(mode = 1, test = 0))\n",
    "#20\n",
    "println(muti_dstump(mode = 2, test = 1)-muti_dstump(mode = 1, test = 1))"
   ]
  },
  {
   "cell_type": "code",
   "execution_count": 90,
   "id": "f0884302",
   "metadata": {},
   "outputs": [
    {
     "data": {
      "text/plain": [
       "3"
      ]
     },
     "execution_count": 90,
     "metadata": {},
     "output_type": "execute_result"
    }
   ],
   "source": [
    "x = 3.0\n",
    "y = trunc(Int, x)\n"
   ]
  },
  {
   "cell_type": "code",
   "execution_count": 72,
   "id": "d7af963b",
   "metadata": {},
   "outputs": [
    {
     "data": {
      "text/plain": [
       "5-element Vector{Int64}:\n",
       "  1\n",
       " -1\n",
       "  1\n",
       " -1\n",
       "  0"
      ]
     },
     "execution_count": 72,
     "metadata": {},
     "output_type": "execute_result"
    }
   ],
   "source": [
    "x=[1,-1,2,-1,0]\n",
    "y = sign.(x)"
   ]
  },
  {
   "cell_type": "code",
   "execution_count": 39,
   "id": "3eab8167",
   "metadata": {},
   "outputs": [
    {
     "data": {
      "text/plain": [
       "1×1 Matrix{Vector{Int64}}:\n",
       " [4, 5, 6]"
      ]
     },
     "execution_count": 39,
     "metadata": {},
     "output_type": "execute_result"
    }
   ],
   "source": [
    "x=[[1,2,3],[4,5,6]]\n",
    "y = x[2,:]\n",
    "\n",
    "y = reshape(x[2,:], 1, length(x[2,:]))\n",
    "\n"
   ]
  },
  {
   "cell_type": "code",
   "execution_count": null,
   "id": "9a9b89a2",
   "metadata": {},
   "outputs": [],
   "source": []
  }
 ],
 "metadata": {
  "kernelspec": {
   "display_name": "Julia 1.8.5",
   "language": "julia",
   "name": "julia-1.8"
  },
  "language_info": {
   "file_extension": ".jl",
   "mimetype": "application/julia",
   "name": "julia",
   "version": "1.8.5"
  }
 },
 "nbformat": 4,
 "nbformat_minor": 5
}
