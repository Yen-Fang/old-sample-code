{
 "cells": [
  {
   "cell_type": "markdown",
   "id": "5e85d442",
   "metadata": {},
   "source": [
    "# the code is written in Julia!!!!!!!"
   ]
  },
  {
   "cell_type": "markdown",
   "id": "33356972",
   "metadata": {},
   "source": [
    "```julia\n",
    "using Statistics\n",
    "using Random\n",
    "\n",
    "N = 256\n",
    "x_n = 11\n",
    "y_idx = 12\n",
    "\n",
    "function pla(; M = N, x0 = 1, ud = 0, err = 0, w0dotx0 = 0, scale = 1)\n",
    "    x = []\n",
    "    datafile = open(\"hw1_13.txt\",\"r\") #read the data\n",
    "    lines = readlines(datafile)\n",
    "    close(datafile)\n",
    "    for (i, line) in enumerate(lines)    \n",
    "        append!(x,[parse.(Float64, split(line,\"\\t\"))])\n",
    "        insert!(x[i],1,x0)\n",
    "    end\n",
    "    \n",
    "    error=zeros(1000)*1\n",
    "    update=zeros(1000)*1\n",
    "    w0 = zeros(1000)*1\n",
    "    \n",
    "    if scale>1\n",
    "        for i in 1:N\n",
    "            x[i][1:x_n] = x[i][1:x_n]/scale\n",
    "        end\n",
    "    end\n",
    "    \n",
    "    for i in 1:1000\n",
    "        Random.seed!(i)\n",
    "        #@show i\n",
    "        #print(error)\n",
    "        cnt = 0\n",
    "        w = [0 for i in 1:x_n]\n",
    "        #print(\"aaa\")\n",
    "        upd = 0\n",
    "        while cnt < M\n",
    "            ranum = Int(ceil(rand()*1000%N))\n",
    "\n",
    "            if (sum(w.*x[ranum][1:x_n])>=0 && x[ranum][y_idx]==1)\n",
    "                cnt+=1\n",
    "            elseif (sum(w.*x[ranum][1:x_n])<0 && x[ranum][y_idx]==-1)\n",
    "                cnt+=1\n",
    "            else\n",
    "                #println(\"here\")\n",
    "                cnt=0\n",
    "                upd += 1\n",
    "                w = w .+ x[ranum][y_idx]*x[ranum][1:x_n]\n",
    "            end\n",
    "            #println(cnt)\n",
    "        end\n",
    "        if err == 1\n",
    "            e = 0\n",
    "            for j in 1:N\n",
    "                if((sum(w.*x[j][1:x_n])>=0 && x[j][y_idx]==1) || (sum(w.*x[j][1:x_n])<0 && x[j][y_idx]==-1))\n",
    "                    a=1\n",
    "                else\n",
    "                    e+=1 \n",
    "                end\n",
    "            end\n",
    "            error[i] = e/N\n",
    "        end\n",
    "        \n",
    "        update[i] = upd\n",
    "        w0[i] = w[1]*x0\n",
    "    end\n",
    "    if err==1\n",
    "        println(sum(error)/1000)\n",
    "    end\n",
    "    if ud==1\n",
    "        println(median(update))\n",
    "    end\n",
    "    if w0dotx0 ==1\n",
    "        println(median(w0))\n",
    "    end\n",
    "    return \n",
    "end\n",
    "\n",
    "```"
   ]
  },
  {
   "cell_type": "markdown",
   "id": "ef60e8c0",
   "metadata": {},
   "source": [
    "```julia\n",
    "#13\n",
    "ans13 = pla(M = N/2, x0 = 1, ud = 0, err = 1, w0dotx0 = 0, scale = 0)\n",
    "#14\n",
    "ans14 = pla(M = 4*N, x0 = 1, ud = 0, err = 1, w0dotx0 = 0, scale = 0)\n",
    "#15\n",
    "ans15 = pla(M = 4*N, x0 = 1, ud = 1, err = 0, w0dotx0 = 0, scale = 0)\n",
    "#16\n",
    "ans16 = pla(M = N*4, x0 = 1, ud = 0, err = 0, w0dotx0 = 1, scale = 0)\n",
    "#17\n",
    "ans17 = pla(M = N*4, x0 = 1, ud = 1, err = 0, w0dotx0 = 0, scale = 2)\n",
    "#18\n",
    "ans18 = pla(M = N*4, x0 = 0, ud = 1, err = 0, w0dotx0 = 0, scale = 0)\n",
    "#19\n",
    "ans19 = pla(M = N*4, x0 = -1, ud = 0, err = 0, w0dotx0 = 1, scale = 0)\n",
    "#20\n",
    "ans20 = pla(M = N*4, x0 = 0.1126, ud = 0, err = 0, w0dotx0 = 1, scale = 0)\n",
    "```"
   ]
  },
  {
   "cell_type": "code",
   "execution_count": 4,
   "id": "87affc00",
   "metadata": {},
   "outputs": [],
   "source": [
    "x = []\n",
    "datafile = open(\"hw1_13.txt\",\"r\")\n",
    "lines = readlines(datafile)\n",
    "\n",
    "close(datafile)\n",
    "for (i, line) in enumerate(lines)    \n",
    "    append!(x,[parse.(Float64, split(line,\"\\t\"))])\n",
    "    insert!(x[i],1,1)\n",
    "end\n",
    "#@show x[1][1]-x[1][2]\n",
    "#@show x\n"
   ]
  },
  {
   "cell_type": "code",
   "execution_count": 174,
   "id": "a644a86f",
   "metadata": {},
   "outputs": [
    {
     "name": "stdout",
     "output_type": "stream",
     "text": [
      "0.01958984375"
     ]
    }
   ],
   "source": [
    "#13\n",
    "using Random \n",
    "\n",
    "error=zeros(1000)*1\n",
    "\n",
    "#print(x[1])\n",
    "\n",
    "for i in 1:1000\n",
    "    Random.seed!(i)\n",
    "    #@show i\n",
    "    #print(error)\n",
    "    cnt = 0\n",
    "    w = [0 for i in 1:x_n]\n",
    "    #print(\"aaa\")\n",
    "    \n",
    "    while cnt < M\n",
    "        ranum = Int(ceil(rand()*1000%N))\n",
    "            \n",
    "#         @show ranum\n",
    "#         @show w\n",
    "#         @show x[ranum][1:10]\n",
    "#         @show w.*x[ranum][1:10]\n",
    "        if (sum(w.*x[ranum][1:x_n])>=0 && x[ranum][y_idx]==1)\n",
    "            cnt+=1\n",
    "        elseif (sum(w.*x[ranum][1:x_n])<0 && x[ranum][y_idx]==-1)\n",
    "            cnt+=1\n",
    "        else\n",
    "            #println(\"here\")\n",
    "            cnt=0\n",
    "            w = w .+ x[ranum][y_idx]*x[ranum][1:x_n]\n",
    "        end\n",
    "        #println(cnt)\n",
    "    end\n",
    "    e = 0\n",
    "    for j in 1:N\n",
    "        if((sum(w.*x[j][1:x_n])>=0 && x[j][y_idx]==1) || (sum(w.*x[j][1:x_n])<0 && x[j][y_idx]==-1))\n",
    "            a=1\n",
    "        else\n",
    "            e+=1 \n",
    "        end\n",
    "    end\n",
    "    error[i] = e/N\n",
    "end\n",
    "\n",
    "print(sum(error)/1000)"
   ]
  },
  {
   "cell_type": "markdown",
   "id": "7b2ea687",
   "metadata": {},
   "source": [
    "# 14.(a)"
   ]
  },
  {
   "cell_type": "code",
   "execution_count": 175,
   "id": "44a4319b",
   "metadata": {},
   "outputs": [
    {
     "name": "stdout",
     "output_type": "stream",
     "text": [
      "0.00014453125"
     ]
    }
   ],
   "source": [
    "N = 256\n",
    "M = 4N\n",
    "\n",
    "using Random \n",
    "\n",
    "error=zeros(1000)*1\n",
    "for i in 1:1000\n",
    "    Random.seed!(i)\n",
    "    cnt = 0\n",
    "    w = [0 for i in 1:x_n]    \n",
    "    while cnt < M\n",
    "        ranum = Int(ceil(rand()*1000%N))\n",
    "\n",
    "        if (sum(w.*x[ranum][1:x_n])>=0 && x[ranum][y_idx]==1)\n",
    "            cnt+=1\n",
    "        elseif (sum(w.*x[ranum][1:x_n])<0 && x[ranum][y_idx]==-1)\n",
    "            cnt+=1\n",
    "        else\n",
    "            cnt=0\n",
    "            w = w .+ x[ranum][y_idx]*x[ranum][1:x_n]\n",
    "        end\n",
    "    end\n",
    "    e = 0\n",
    "    for j in 1:N\n",
    "        if((sum(w.*x[j][1:x_n])>=0 && x[j][y_idx]==1) || (sum(w.*x[j][1:x_n])<0 && x[j][y_idx]==-1))\n",
    "            a=1\n",
    "        else\n",
    "            e+=1 \n",
    "        end\n",
    "    end\n",
    "    error[i] = e/N\n",
    "end\n",
    "\n",
    "print(sum(error)/1000)"
   ]
  },
  {
   "cell_type": "markdown",
   "id": "6a9faf0a",
   "metadata": {},
   "source": [
    "# 15.(d)"
   ]
  },
  {
   "cell_type": "code",
   "execution_count": 5,
   "id": "25000f5a",
   "metadata": {},
   "outputs": [
    {
     "name": "stdout",
     "output_type": "stream",
     "text": [
      "445.0\n"
     ]
    }
   ],
   "source": [
    "N = 256\n",
    "M = 4N\n",
    "using Statistics\n",
    "using Random \n",
    "\n",
    "update=zeros(1000)*1\n",
    "for i in 1:1000\n",
    "    Random.seed!(i)\n",
    "    cnt = 0\n",
    "    w = [0 for i in 1:x_n] \n",
    "    upd = 0\n",
    "    while cnt < M\n",
    "        ranum = Int(ceil(rand()*1000%N))\n",
    "\n",
    "        if (sum(w.*x[ranum][1:x_n])>=0 && x[ranum][y_idx]==1)\n",
    "            cnt+=1\n",
    "        elseif (sum(w.*x[ranum][1:x_n])<0 && x[ranum][y_idx]==-1)\n",
    "            cnt+=1\n",
    "        else\n",
    "            cnt=0\n",
    "            upd += 1\n",
    "            w = w .+ x[ranum][y_idx]*x[ranum][1:x_n]\n",
    "        end\n",
    "    end\n",
    "    update[i] = upd\n",
    "end\n",
    "\n",
    "println(median(update))"
   ]
  },
  {
   "cell_type": "markdown",
   "id": "6037a9c9",
   "metadata": {},
   "source": [
    "# 16.(e)"
   ]
  },
  {
   "cell_type": "code",
   "execution_count": 6,
   "id": "5acdd601",
   "metadata": {},
   "outputs": [
    {
     "name": "stdout",
     "output_type": "stream",
     "text": [
      "34.0\n"
     ]
    }
   ],
   "source": [
    "N = 256\n",
    "M = 4N\n",
    "using Statistics\n",
    "using Random \n",
    "\n",
    "w0 = zeros(1000)*1\n",
    "for i in 1:1000\n",
    "    Random.seed!(i)\n",
    "    cnt = 0\n",
    "    w = [0 for i in 1:x_n] \n",
    "\n",
    "    while cnt < M\n",
    "        ranum = Int(ceil(rand()*1000%N))\n",
    "\n",
    "        if (sum(w.*x[ranum][1:x_n])>=0 && x[ranum][y_idx]==1)\n",
    "            cnt+=1\n",
    "        elseif (sum(w.*x[ranum][1:x_n])<0 && x[ranum][y_idx]==-1)\n",
    "            cnt+=1\n",
    "        else\n",
    "            cnt=0\n",
    "            w = w .+ x[ranum][y_idx]*x[ranum][1:x_n]\n",
    "        end\n",
    "    end\n",
    "    w0[i] = w[1]\n",
    "\n",
    "end\n",
    "\n",
    "println(median(w0))"
   ]
  },
  {
   "cell_type": "markdown",
   "id": "ec63ae8b",
   "metadata": {},
   "source": [
    "# 17.(d)"
   ]
  },
  {
   "cell_type": "code",
   "execution_count": 8,
   "id": "c3be19b1",
   "metadata": {},
   "outputs": [
    {
     "name": "stdout",
     "output_type": "stream",
     "text": [
      "445.0\n"
     ]
    }
   ],
   "source": [
    "N = 256\n",
    "M = 4N\n",
    "using Statistics\n",
    "using Random \n",
    "\n",
    "for i in 1:N\n",
    "    x[i][1:x_n] = x[i][1:x_n]/2\n",
    "end\n",
    "\n",
    "update=zeros(1000)*1\n",
    "for i in 1:1000\n",
    "    Random.seed!(i)\n",
    "    cnt = 0\n",
    "    w = [0 for i in 1:x_n] \n",
    "    upd = 0\n",
    "    while cnt < M\n",
    "        ranum = Int(ceil(rand()*1000%N))\n",
    "\n",
    "        if (sum(w.*x[ranum][1:x_n])>=0 && x[ranum][y_idx]==1)\n",
    "            cnt+=1\n",
    "        elseif (sum(w.*x[ranum][1:x_n])<0 && x[ranum][y_idx]==-1)\n",
    "            cnt+=1\n",
    "        else\n",
    "            cnt=0\n",
    "            upd += 1\n",
    "            w = w .+ x[ranum][y_idx]*x[ranum][1:x_n]\n",
    "        end\n",
    "    end\n",
    "    update[i] = upd\n",
    "end\n",
    "\n",
    "println(median(update))"
   ]
  },
  {
   "cell_type": "markdown",
   "id": "6b7167d9",
   "metadata": {},
   "source": [
    "# 18.(d)"
   ]
  },
  {
   "cell_type": "code",
   "execution_count": 9,
   "id": "f4c9f70d",
   "metadata": {},
   "outputs": [],
   "source": [
    "x = []\n",
    "datafile = open(\"hw1_13.txt\",\"r\")\n",
    "lines = readlines(datafile)\n",
    "\n",
    "close(datafile)\n",
    "for (i, line) in enumerate(lines)    \n",
    "    append!(x,[parse.(Float64, split(line,\"\\t\"))])\n",
    "    insert!(x[i],1,0)\n",
    "end\n",
    "\n",
    "N = 256\n",
    "M = 4N\n",
    "using Statistics\n",
    "using Random \n",
    "\n",
    "update=zeros(1000)*1\n",
    "for i in 1:1000\n",
    "    Random.seed!(i)\n",
    "    cnt = 0\n",
    "    w = [0 for i in 1:x_n] \n",
    "    upd = 0\n",
    "    while cnt < M\n",
    "        ranum = Int(ceil(rand()*1000%N))\n",
    "\n",
    "        if (sum(w.*x[ranum][1:x_n])>=0 && x[ranum][y_idx]==1)\n",
    "            cnt+=1\n",
    "        elseif (sum(w.*x[ranum][1:x_n])<0 && x[ranum][y_idx]==-1)\n",
    "            cnt+=1\n",
    "        else\n",
    "            cnt=0\n",
    "            upd += 1\n",
    "            w = w .+ x[ranum][y_idx]*x[ranum][1:x_n]\n",
    "        end\n",
    "    end\n",
    "    update[i] = upd\n",
    "end"
   ]
  },
  {
   "cell_type": "code",
   "execution_count": 10,
   "id": "3faab14f",
   "metadata": {},
   "outputs": [
    {
     "name": "stdout",
     "output_type": "stream",
     "text": [
      "439.0\n"
     ]
    }
   ],
   "source": [
    "println(median(update))"
   ]
  },
  {
   "cell_type": "markdown",
   "id": "4ee40b12",
   "metadata": {},
   "source": [
    "# 19.(e)"
   ]
  },
  {
   "cell_type": "code",
   "execution_count": 12,
   "id": "619d45c1",
   "metadata": {},
   "outputs": [
    {
     "name": "stdout",
     "output_type": "stream",
     "text": [
      "34.0\n"
     ]
    }
   ],
   "source": [
    "x = []\n",
    "datafile = open(\"hw1_13.txt\",\"r\")\n",
    "lines = readlines(datafile)\n",
    "\n",
    "close(datafile)\n",
    "for (i, line) in enumerate(lines)    \n",
    "    append!(x,[parse.(Float64, split(line,\"\\t\"))])\n",
    "    insert!(x[i],1,-1)\n",
    "end\n",
    "\n",
    "N = 256\n",
    "M = 4N\n",
    "using Statistics\n",
    "using Random \n",
    "\n",
    "w0x0 = zeros(1000)*1\n",
    "for i in 1:1000\n",
    "    Random.seed!(i)\n",
    "    cnt = 0\n",
    "    w = [0 for i in 1:x_n] \n",
    "    www = 0\n",
    "    while cnt < M\n",
    "        ranum = Int(ceil(rand()*1000%N))\n",
    "\n",
    "        if (sum(w.*x[ranum][1:x_n])>=0 && x[ranum][y_idx]==1)\n",
    "            cnt+=1\n",
    "        elseif (sum(w.*x[ranum][1:x_n])<0 && x[ranum][y_idx]==-1)\n",
    "            cnt+=1\n",
    "        else\n",
    "            cnt=0\n",
    "            www = w[1]*(-1)\n",
    "            w = w .+ x[ranum][y_idx]*x[ranum][1:x_n]\n",
    "            \n",
    "        end\n",
    "    end\n",
    "    w0x0[i] = www\n",
    "\n",
    "end\n",
    "\n",
    "println(median(w0x0))"
   ]
  },
  {
   "cell_type": "markdown",
   "id": "d6a3a15a",
   "metadata": {},
   "source": [
    "# 20.(c)"
   ]
  },
  {
   "cell_type": "code",
   "execution_count": 13,
   "id": "a96ab9be",
   "metadata": {},
   "outputs": [
    {
     "name": "stdout",
     "output_type": "stream",
     "text": [
      "0.4183990800000001\n"
     ]
    }
   ],
   "source": [
    "x = []\n",
    "datafile = open(\"hw1_13.txt\",\"r\")\n",
    "lines = readlines(datafile)\n",
    "\n",
    "close(datafile)\n",
    "for (i, line) in enumerate(lines)    \n",
    "    append!(x,[parse.(Float64, split(line,\"\\t\"))])\n",
    "    insert!(x[i],1,0.1126)\n",
    "end\n",
    "\n",
    "N = 256\n",
    "M = 4N\n",
    "using Statistics\n",
    "using Random \n",
    "\n",
    "w0x0 = zeros(1000)*1\n",
    "for i in 1:1000\n",
    "    Random.seed!(i)\n",
    "    cnt = 0\n",
    "    w = [0 for i in 1:x_n] \n",
    "    www = 0\n",
    "    while cnt < M\n",
    "        ranum = Int(ceil(rand()*1000%N))\n",
    "\n",
    "        if (sum(w.*x[ranum][1:x_n])>=0 && x[ranum][y_idx]==1)\n",
    "            cnt+=1\n",
    "        elseif (sum(w.*x[ranum][1:x_n])<0 && x[ranum][y_idx]==-1)\n",
    "            cnt+=1\n",
    "        else\n",
    "            cnt=0\n",
    "            www = w[1]*(0.1126)\n",
    "            w = w .+ x[ranum][y_idx]*x[ranum][1:x_n]\n",
    "            \n",
    "        end\n",
    "    end\n",
    "    w0x0[i] = www\n",
    "\n",
    "end\n",
    "\n",
    "println(median(w0x0))"
   ]
  },
  {
   "cell_type": "code",
   "execution_count": null,
   "id": "e024eb7b",
   "metadata": {},
   "outputs": [],
   "source": []
  }
 ],
 "metadata": {
  "@webio": {
   "lastCommId": null,
   "lastKernelId": null
  },
  "kernelspec": {
   "display_name": "Julia 1.8.5",
   "language": "julia",
   "name": "julia-1.8"
  },
  "language_info": {
   "file_extension": ".jl",
   "mimetype": "application/julia",
   "name": "julia",
   "version": "1.8.5"
  }
 },
 "nbformat": 4,
 "nbformat_minor": 5
}
