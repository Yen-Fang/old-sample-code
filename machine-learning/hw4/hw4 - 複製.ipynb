{
 "cells": [
  {
   "cell_type": "code",
   "execution_count": 20,
   "id": "9de4776e",
   "metadata": {},
   "outputs": [
    {
     "name": "stderr",
     "output_type": "stream",
     "text": [
      "C:\\Users\\user\\AppData\\Local\\Temp\\ipykernel_14692\\4291091750.py:32: DeprecationWarning: In a future version, `df.iloc[:, i] = newvals` will attempt to set the values inplace instead of always setting a new array. To retain the old behavior, use either `df[df.columns[i]] = newvals` or, if columns are non-unique, `df.isetitem(i, newvals)`\n",
      "  dtrain.iloc[:, 10] = 1\n",
      "C:\\Users\\user\\AppData\\Local\\Temp\\ipykernel_14692\\4291091750.py:37: DeprecationWarning: In a future version, `df.iloc[:, i] = newvals` will attempt to set the values inplace instead of always setting a new array. To retain the old behavior, use either `df[df.columns[i]] = newvals` or, if columns are non-unique, `df.isetitem(i, newvals)`\n",
      "  dtest.iloc[:, 10] = 1\n"
     ]
    }
   ],
   "source": [
    "import pandas as pd\n",
    "import numpy as np\n",
    "from liblinear.liblinearutil import *\n",
    "import itertools\n",
    "dtrain = pd.read_table('hw4_train.dat', header=None)\n",
    "dtest = pd.read_table('hw4_test.dat', header=None)\n",
    "tmp = dtrain.copy()\n",
    "#tmp = tmp.iloc[:,1:4]\n",
    "\n",
    "def _transform_withoutconst(x):\n",
    "    cnt=0\n",
    "    x_copy = x.copy()\n",
    "    tt = x.iloc[:,10].copy()\n",
    "    options = [i for i in range(11)]#11\n",
    "    comb = list(itertools.product(options, repeat=2))\n",
    "    unique_combs = [tuple(sorted(c)) for c in comb]\n",
    "    u = list(set(unique_combs))\n",
    "    #print(u)\n",
    "    d = 10\n",
    "    \n",
    "    for i in u:\n",
    "        tmp = tt.copy()\n",
    "        for j in i:\n",
    "            tmp *= x.iloc[:, j]\n",
    "        x_copy[cnt] =  tmp\n",
    "        cnt+=1\n",
    "    #print(x_copy)\n",
    "    return x_copy\n",
    "\n",
    "\n",
    "y_train = dtrain[10].tolist()\n",
    "dtrain.iloc[:, 10] = 1\n",
    "#print(dtrain)\n",
    "dtrain = _transform_withoutconst(dtrain)\n",
    "\n",
    "y_test = dtest[10].tolist()\n",
    "dtest.iloc[:, 10] = 1\n",
    "dtest = _transform_withoutconst(dtest)\n",
    "#print(dtrain)\n",
    "dtrain = dtrain.values.tolist()\n",
    "dtest = dtest.values.tolist()\n",
    "#print(dtest)"
   ]
  },
  {
   "cell_type": "code",
   "execution_count": 21,
   "id": "e78cc431",
   "metadata": {
    "scrolled": true
   },
   "outputs": [
    {
     "name": "stdout",
     "output_type": "stream",
     "text": [
      "Accuracy = 78.2% (391/500) (classification)\n",
      "Accuracy = 77.8% (389/500) (classification)\n",
      "Accuracy = 83% (415/500) (classification)\n",
      "Accuracy = 84.2% (421/500) (classification)\n",
      "Accuracy = 83% (415/500) (classification)\n",
      "3\n"
     ]
    }
   ],
   "source": [
    "# 12\n",
    "lamda_list = [-6, -3, 0, 3, 6]\n",
    "best_lamda = -1\n",
    "err = 1000000000\n",
    "for ln_lamda in lamda_list:\n",
    "    lamda = pow(10, ln_lamda)\n",
    "    option = '-s 0 -c '+str(1/2/lamda)+' -e 0.000001'\n",
    "    model_12 = train(y_train, dtrain, option)\n",
    "    p_label, p_acc, p_val = predict(y_test, dtest, model_12)\n",
    "    if 1-p_acc[0]/100 <= err:\n",
    "        err = 1-p_acc[0]/100\n",
    "        best_lamda = ln_lamda\n",
    "print(best_lamda)\n",
    "\n",
    "#3"
   ]
  },
  {
   "cell_type": "code",
   "execution_count": 22,
   "id": "e8f0f01c",
   "metadata": {},
   "outputs": [
    {
     "name": "stdout",
     "output_type": "stream",
     "text": [
      "0\n"
     ]
    }
   ],
   "source": [
    "#20\n",
    "lamda = pow(10, 3)\n",
    "option = '-s 0 -c '+str(1/2/lamda)+' -e 0.000001'\n",
    "model_12 = train(y_train, dtrain, option)\n",
    "www = model_12.get_decfun()\n",
    "\n",
    "count = len([x for x in www[0] if abs(x) <= 0.000001])\n",
    "print(count)\n",
    "#0"
   ]
  },
  {
   "cell_type": "code",
   "execution_count": 23,
   "id": "a6ecf402",
   "metadata": {},
   "outputs": [
    {
     "name": "stdout",
     "output_type": "stream",
     "text": [
      "Accuracy = 100% (200/200) (classification)\n",
      "Accuracy = 100% (200/200) (classification)\n",
      "Accuracy = 97.5% (195/200) (classification)\n",
      "Accuracy = 83% (166/200) (classification)\n",
      "Accuracy = 81% (162/200) (classification)\n",
      "-3\n"
     ]
    }
   ],
   "source": [
    "# 13\n",
    "lamda_list = [-6, -3, 0, 3, 6]\n",
    "best_lamda = -1\n",
    "err = 1000000000\n",
    "for ln_lamda in lamda_list:\n",
    "    lamda = pow(10, ln_lamda)\n",
    "    option = '-s 0 -c '+str(1/2/lamda)+' -e 0.000001'\n",
    "    model_13 = train(y_train, dtrain, option)\n",
    "    p_label, p_acc, p_val = predict(y_train, dtrain, model_13)\n",
    "\n",
    "    if  1-p_acc[0]/100<= err:\n",
    "        err = 1-p_acc[0]/100\n",
    "        best_lamda = ln_lamda\n",
    "print(best_lamda)\n",
    "#"
   ]
  },
  {
   "cell_type": "code",
   "execution_count": 24,
   "id": "ebbeec25",
   "metadata": {},
   "outputs": [
    {
     "name": "stdout",
     "output_type": "stream",
     "text": [
      "Accuracy = 77.6% (388/500) (classification)\n",
      "Accuracy = 78% (390/500) (classification)\n",
      "Accuracy = 82.8% (414/500) (classification)\n",
      "Accuracy = 49.2% (246/500) (classification)\n",
      "Accuracy = 49.2% (246/500) (classification)\n",
      "0\n"
     ]
    }
   ],
   "source": [
    "# 18\n",
    "lamda_list = [-6, -3, 0, 3, 6]\n",
    "best_lamda = -1\n",
    "err = 1000000000\n",
    "for ln_lamda in lamda_list:\n",
    "    lamda = pow(10, ln_lamda)\n",
    "    option = '-s 6 -c '+str(1/lamda)+' -e 0.000001'\n",
    "    model_18 = train(y_train, dtrain, option)\n",
    "    p_label, p_acc, p_val = predict(y_test, dtest, model_18)\n",
    "    if 1-p_acc[0]/100 <= err:\n",
    "        err = 1-p_acc[0]/100\n",
    "        best_lamda = ln_lamda\n",
    "print(best_lamda)\n",
    "#0"
   ]
  },
  {
   "cell_type": "code",
   "execution_count": 25,
   "id": "cf88987e",
   "metadata": {},
   "outputs": [
    {
     "name": "stdout",
     "output_type": "stream",
     "text": [
      "28\n"
     ]
    }
   ],
   "source": [
    "#19\n",
    "lamda = pow(10, 0)\n",
    "option = '-s 6 -c '+str(1/lamda)+' -e 0.000001'\n",
    "model_18 = train(y_train, dtrain, option)\n",
    "www = model_18.get_decfun()\n",
    "count = len([x for x in www[0] if abs(x) <= 0.000001])\n",
    "print(count)\n",
    "#951"
   ]
  },
  {
   "cell_type": "code",
   "execution_count": 26,
   "id": "13fbacae",
   "metadata": {},
   "outputs": [
    {
     "name": "stdout",
     "output_type": "stream",
     "text": [
      "           0         1         2         3         4         5         6   \\\n",
      "0    1.915916 -0.202313  2.593777  0.347206 -2.407868  0.198042  0.010645   \n",
      "1   -0.474201 -1.865170 -1.231735  1.179022  0.507341 -0.513383  3.824110   \n",
      "2    0.452063  2.657813 -0.325779  0.270898  0.399649 -0.083924 -3.781494   \n",
      "3    0.170607 -0.498481  1.213774 -0.218524 -0.710187 -1.565615  1.692216   \n",
      "4   -0.083645  0.105334  0.678842  0.120313  0.689432 -0.401290 -1.094429   \n",
      "..        ...       ...       ...       ...       ...       ...       ...   \n",
      "195  0.649212 -0.499457 -0.053467 -0.675485 -0.809288 -0.024800  0.828412   \n",
      "196 -0.161529  1.272837  0.209623  0.294527 -0.356087  0.446961 -0.809706   \n",
      "197  0.125861 -1.283546  0.510177  0.205319 -0.352445  0.354190 -6.298526   \n",
      "198 -0.115669  0.140355  2.269187  0.161346  0.869551  2.216084  0.200632   \n",
      "199  0.088261  0.294124  0.214805 -0.292471 -0.321913  0.060674  0.465392   \n",
      "\n",
      "           7         8         9   ...        56        57        58  \\\n",
      "0   -0.183847 -0.264196  0.043427  ...  0.103073  0.108513 -0.011459   \n",
      "1    0.211458 -3.785631 -0.223269  ...  1.331877 -1.837493 -7.227391   \n",
      "2    0.102954  0.857833 -0.239318  ... -0.556695  0.650146  3.822398   \n",
      "3    0.916051 -1.832672 -1.586277  ... -1.575196  0.694015 -2.027780   \n",
      "4   -0.407550 -0.842630  0.287699  ...  0.700036  1.068862 -1.346014   \n",
      "..        ...       ...       ...  ...       ...       ...       ...   \n",
      "195 -0.375377  0.321520  0.518830  ... -1.163830  0.485056 -0.373167   \n",
      "196 -0.759253  1.656358  1.250697  ... -1.069535 -0.175032  1.379238   \n",
      "197 -0.244685  1.032568  0.825201  ...  1.939021 -0.658230  6.712736   \n",
      "198  0.849202 -2.586570  0.239561  ... -0.342167  0.618429 -0.750412   \n",
      "199 -0.090928  1.273719 -0.067961  ...  0.797285 -0.200444 -0.667963   \n",
      "\n",
      "           59  60        61        62        63        64        65  \n",
      "0    0.746394   1  0.019665 -0.692896  0.190409 -0.110949  1.119301  \n",
      "1   -1.851825   1  4.568620  0.762751  1.591178 -2.517186  4.605742  \n",
      "2    0.333087   1  0.389599 -0.408613  0.057355  0.562716 -0.297607  \n",
      "3    0.316257   1 -0.888938 -0.185044  0.827467  1.887556  1.509473  \n",
      "4   -2.748458   1 -1.537422 -2.791336  0.983390  0.860958  0.955640  \n",
      "..        ...  ..       ...       ...       ...       ...       ...  \n",
      "195 -0.092749   1 -0.504685 -1.403862  0.709028  0.524260  0.034118  \n",
      "196 -1.322412   1  0.319147  2.246383  0.421559  1.821827 -0.347504  \n",
      "197  0.482543   1 -1.073783 -0.333355  0.330568 -2.066537 -0.415848  \n",
      "198  0.179254   1 -0.862638  0.068690  1.471187  1.279791  6.397266  \n",
      "199  0.879259   1  0.664210 -1.317680  1.137889 -1.144320  0.792288  \n",
      "\n",
      "[200 rows x 66 columns]\n"
     ]
    },
    {
     "name": "stderr",
     "output_type": "stream",
     "text": [
      "C:\\Users\\user\\AppData\\Local\\Temp\\ipykernel_14692\\321921462.py:11: DeprecationWarning: In a future version, `df.iloc[:, i] = newvals` will attempt to set the values inplace instead of always setting a new array. To retain the old behavior, use either `df[df.columns[i]] = newvals` or, if columns are non-unique, `df.isetitem(i, newvals)`\n",
      "  dtrain.iloc[:, 10] = 1\n",
      "C:\\Users\\user\\AppData\\Local\\Temp\\ipykernel_14692\\321921462.py:12: DeprecationWarning: In a future version, `df.iloc[:, i] = newvals` will attempt to set the values inplace instead of always setting a new array. To retain the old behavior, use either `df[df.columns[i]] = newvals` or, if columns are non-unique, `df.isetitem(i, newvals)`\n",
      "  dtest.iloc[:, 10] = 1\n"
     ]
    },
    {
     "name": "stdout",
     "output_type": "stream",
     "text": [
      "[6, 23, 204, 20, 3]\n",
      "0\n"
     ]
    }
   ],
   "source": [
    "#14\n",
    "import random\n",
    "import pandas as pd\n",
    "import numpy as np\n",
    "from liblinear.liblinearutil import *\n",
    "\n",
    "dtrain = pd.read_table('hw4_train.dat', header=None)\n",
    "dtest = pd.read_table('hw4_test.dat', header=None)\n",
    "y_train = dtrain[10]\n",
    "y_test = dtest[10]\n",
    "dtrain.iloc[:, 10] = 1\n",
    "dtest.iloc[:, 10] = 1\n",
    "\n",
    "dtrain = _transform_withoutconst(dtrain)\n",
    "dtest = _transform_withoutconst(dtest)\n",
    "print(dtrain)\n",
    "dtrain[len(dtrain.columns)] = y_train\n",
    "dtest[len(dtest.columns)] = y_test\n",
    "y_test = dtest[len(dtest.columns)-1].tolist()\n",
    "x_test = dtest.iloc[:,0:len(dtest.columns)-1].values.tolist()\n",
    "#print(dtrain)\n",
    "\n",
    "cnt = [0,0,0,0,0]\n",
    "for _ in range(256):\n",
    "    random.seed(_)\n",
    "    draw_train = random.sample(range(0, 200), 120)\n",
    "    #print(draw_train)\n",
    "    draw_val = [i for i in range(0,200) if i not in draw_train]\n",
    "\n",
    "    data_train = dtrain.iloc[draw_train, :]\n",
    "    data_val = dtrain.iloc[draw_val,:]\n",
    "    \n",
    "    y_train = data_train[len(data_train.columns)-1].tolist()\n",
    "    y_val = data_val[len(data_val.columns)-1].tolist()\n",
    "    \n",
    "    x_train = data_train.iloc[:,0:len(data_train.columns)-1].values.tolist()\n",
    "    x_val = data_val.iloc[:,0:len(data_val.columns)-1].values.tolist()\n",
    "    #print(x_train)\n",
    "    lamda_list = [-6, -3, 0, 3, 6]\n",
    "    best_lamda = -1\n",
    "    err = 1000000000\n",
    "    for ln_lamda in lamda_list:\n",
    "        lamda = pow(10, ln_lamda)\n",
    "        option = '-s 0 -c '+str(1/2/lamda)+' -e 0.000001'\n",
    "        model_14 = train(y_train, x_train, option)\n",
    "        p_label, p_acc, p_val = predict(y_val, x_val, model_14,'-q')\n",
    "        diff_count = 0\n",
    "        for i in range(len(p_label)):\n",
    "            if p_label[i] != y_val[i]:\n",
    "                diff_count += 1\n",
    "        if diff_count/len(y_val) <= err:\n",
    "            err = diff_count/len(y_val)\n",
    "            best_lamda = ln_lamda\n",
    "    cnt[lamda_list.index(best_lamda)] += 1\n",
    "print(cnt)\n",
    "print(lamda_list[cnt.index(max(cnt))])\n",
    "#3"
   ]
  },
  {
   "cell_type": "code",
   "execution_count": 27,
   "id": "391b0b86",
   "metadata": {},
   "outputs": [
    {
     "name": "stderr",
     "output_type": "stream",
     "text": [
      "C:\\Users\\user\\AppData\\Local\\Temp\\ipykernel_14692\\26030847.py:12: DeprecationWarning: In a future version, `df.iloc[:, i] = newvals` will attempt to set the values inplace instead of always setting a new array. To retain the old behavior, use either `df[df.columns[i]] = newvals` or, if columns are non-unique, `df.isetitem(i, newvals)`\n",
      "  dtrain.iloc[:, 10] = 1\n",
      "C:\\Users\\user\\AppData\\Local\\Temp\\ipykernel_14692\\26030847.py:13: DeprecationWarning: In a future version, `df.iloc[:, i] = newvals` will attempt to set the values inplace instead of always setting a new array. To retain the old behavior, use either `df[df.columns[i]] = newvals` or, if columns are non-unique, `df.isetitem(i, newvals)`\n",
      "  dtest.iloc[:, 10] = 1\n"
     ]
    },
    {
     "name": "stdout",
     "output_type": "stream",
     "text": [
      "0.18692968750000005\n"
     ]
    }
   ],
   "source": [
    "#15\n",
    "import random\n",
    "import pandas as pd\n",
    "import numpy as np\n",
    "from liblinear.liblinearutil import *\n",
    "\n",
    "dtrain = pd.read_table('hw4_train.dat', header=None)\n",
    "dtest = pd.read_table('hw4_test.dat', header=None)\n",
    "\n",
    "y_train = dtrain[10]\n",
    "y_test = dtest[10]\n",
    "dtrain.iloc[:, 10] = 1\n",
    "dtest.iloc[:, 10] = 1\n",
    "\n",
    "dtrain = _transform_withoutconst(dtrain)\n",
    "dtest = _transform_withoutconst(dtest)\n",
    "\n",
    "dtrain[len(dtrain.columns)] = y_train\n",
    "dtest[len(dtest.columns)] = y_test\n",
    "\n",
    "y_test = dtest[len(dtest.columns)-1].tolist()\n",
    "x_test = dtest.iloc[:,0:len(dtest.columns)-1].values.tolist()\n",
    "#print(dtrain)\n",
    "\n",
    "out_err = 0 \n",
    "for _ in range(256):\n",
    "    random.seed(_)\n",
    "    draw_train = random.sample(range(0, 200), 120)\n",
    "    #print(draw_train)\n",
    "    draw_val = [i for i in range(0,200) if i not in draw_train]\n",
    "\n",
    "    data_train = dtrain.iloc[draw_train, :]\n",
    "    data_val = dtrain.iloc[draw_val,:]\n",
    "    \n",
    "    y_train = data_train[len(data_train.columns)-1].tolist()\n",
    "    y_val = data_val[len(data_val.columns)-1].tolist()\n",
    "    \n",
    "    x_train = data_train.iloc[:,0:len(data_train.columns)-1].values.tolist()\n",
    "    x_val = data_val.iloc[:,0:len(data_val.columns)-1].values.tolist()\n",
    "    #print(x_train)\n",
    "    lamda_list = [-6, -3, 0, 3, 6]\n",
    "    best_lamda = -1\n",
    "    err = 1000000000\n",
    "    for ln_lamda in lamda_list:\n",
    "        lamda = pow(10, ln_lamda)\n",
    "        option = '-s 0 -c '+str(1/2/lamda)+' -e 0.000001'\n",
    "        model_14 = train(y_train, x_train, option)\n",
    "        p_label, p_acc, p_val = predict(y_val, x_val, model_14,'-q')\n",
    "        diff_count = 0\n",
    "        for i in range(len(p_label)):\n",
    "            if p_label[i] != y_val[i]:\n",
    "                diff_count += 1\n",
    "        if diff_count/len(y_val) <= err:\n",
    "            err = diff_count/len(y_val)\n",
    "            best_lamda = ln_lamda\n",
    "    \n",
    "    lamda = pow(10, best_lamda)\n",
    "    option = '-s 0 -c '+str(1/2/lamda)+' -e 0.000001'\n",
    "    model_15 = train(y_train, x_train, option)\n",
    "    p_label, p_acc, p_val = predict(y_test, x_test, model_15,'-q')\n",
    "    diff_count = 0\n",
    "    for i in range(len(p_label)):\n",
    "        if p_label[i] != y_test[i]:\n",
    "            diff_count += 1\n",
    "    out_err += diff_count/len(y_test)\n",
    "\n",
    "print(out_err/256)\n",
    "#0.16913281250000015"
   ]
  },
  {
   "cell_type": "code",
   "execution_count": 28,
   "id": "b8b2ef89",
   "metadata": {},
   "outputs": [
    {
     "name": "stderr",
     "output_type": "stream",
     "text": [
      "C:\\Users\\user\\AppData\\Local\\Temp\\ipykernel_14692\\2669565848.py:12: DeprecationWarning: In a future version, `df.iloc[:, i] = newvals` will attempt to set the values inplace instead of always setting a new array. To retain the old behavior, use either `df[df.columns[i]] = newvals` or, if columns are non-unique, `df.isetitem(i, newvals)`\n",
      "  dtrain.iloc[:, 10] = 1\n",
      "C:\\Users\\user\\AppData\\Local\\Temp\\ipykernel_14692\\2669565848.py:13: DeprecationWarning: In a future version, `df.iloc[:, i] = newvals` will attempt to set the values inplace instead of always setting a new array. To retain the old behavior, use either `df[df.columns[i]] = newvals` or, if columns are non-unique, `df.isetitem(i, newvals)`\n",
      "  dtest.iloc[:, 10] = 1\n"
     ]
    },
    {
     "name": "stdout",
     "output_type": "stream",
     "text": [
      "0.17609375000000102\n"
     ]
    }
   ],
   "source": [
    "#16\n",
    "import random\n",
    "import pandas as pd\n",
    "import numpy as np\n",
    "from liblinear.liblinearutil import *\n",
    "\n",
    "dtrain = pd.read_table('hw4_train.dat', header=None)\n",
    "dtest = pd.read_table('hw4_test.dat', header=None)\n",
    "\n",
    "y_train = dtrain[10]\n",
    "y_test = dtest[10]\n",
    "dtrain.iloc[:, 10] = 1\n",
    "dtest.iloc[:, 10] = 1\n",
    "\n",
    "dtrain = _transform_withoutconst(dtrain)\n",
    "dtest = _transform_withoutconst(dtest)\n",
    "\n",
    "dtrain[len(dtrain.columns)] = y_train\n",
    "dtest[len(dtest.columns)] = y_test\n",
    "\n",
    "y_test = dtest[len(dtest.columns)-1].tolist()\n",
    "x_test = dtest.iloc[:,0:len(dtest.columns)-1].values.tolist()\n",
    "y_train_val = dtrain[len(dtrain.columns)-1].tolist()\n",
    "x_train_val = dtrain.iloc[:,0:len(dtrain.columns)-1].values.tolist()\n",
    "#print(dtrain)\n",
    "\n",
    "out_err = 0 \n",
    "for _ in range(256):\n",
    "    random.seed(_+100)\n",
    "    draw_train = random.sample(range(0, 200), 120)\n",
    "    #print(draw_train)\n",
    "    draw_val = [i for i in range(0,200) if i not in draw_train]\n",
    "\n",
    "    data_train = dtrain.iloc[draw_train, :]\n",
    "    data_val = dtrain.iloc[draw_val,:]\n",
    "    \n",
    "    y_train = data_train[len(data_train.columns)-1].tolist()\n",
    "    y_val = data_val[len(data_val.columns)-1].tolist()\n",
    "    \n",
    "    x_train = data_train.iloc[:,0:len(data_train.columns)-1].values.tolist()\n",
    "    x_val = data_val.iloc[:,0:len(data_val.columns)-1].values.tolist()\n",
    "    #print(x_train)\n",
    "    lamda_list = [-6, -3, 0, 3, 6]\n",
    "    best_lamda = -1\n",
    "    err = 1000000000\n",
    "    for ln_lamda in lamda_list:\n",
    "        lamda = pow(10, ln_lamda)\n",
    "        option = '-s 0 -c '+str(1/2/lamda)+' -e 0.000001'\n",
    "        model_14 = train(y_train, x_train, option)\n",
    "        p_label, p_acc, p_val = predict(y_val, x_val, model_14,'-q')\n",
    "        diff_count = 0\n",
    "        for i in range(len(p_label)):\n",
    "            if p_label[i] != y_val[i]:\n",
    "                diff_count += 1\n",
    "        if diff_count/len(y_val) <= err:\n",
    "            err = diff_count/len(y_val)\n",
    "            best_lamda = ln_lamda\n",
    "    \n",
    "    lamda = pow(10, best_lamda)\n",
    "    option = '-s 0 -c '+str(1/2/lamda)+' -e 0.000001'\n",
    "    model_15 = train(y_train_val, x_train_val, option)\n",
    "    p_label, p_acc, p_val = predict(y_test, x_test, model_15,'-q')\n",
    "    diff_count = 0\n",
    "    for i in range(len(p_label)):\n",
    "        if p_label[i] != y_test[i]:\n",
    "            diff_count += 1\n",
    "    out_err += diff_count/len(y_test)\n",
    "\n",
    "print(out_err/256)\n",
    "#0.14941406250000025"
   ]
  },
  {
   "cell_type": "code",
   "execution_count": 29,
   "id": "0a44538f",
   "metadata": {},
   "outputs": [
    {
     "name": "stderr",
     "output_type": "stream",
     "text": [
      "C:\\Users\\user\\AppData\\Local\\Temp\\ipykernel_14692\\3085993678.py:11: DeprecationWarning: In a future version, `df.iloc[:, i] = newvals` will attempt to set the values inplace instead of always setting a new array. To retain the old behavior, use either `df[df.columns[i]] = newvals` or, if columns are non-unique, `df.isetitem(i, newvals)`\n",
      "  dtrain.iloc[:, 10] = 1\n",
      "C:\\Users\\user\\AppData\\Local\\Temp\\ipykernel_14692\\3085993678.py:12: DeprecationWarning: In a future version, `df.iloc[:, i] = newvals` will attempt to set the values inplace instead of always setting a new array. To retain the old behavior, use either `df[df.columns[i]] = newvals` or, if columns are non-unique, `df.isetitem(i, newvals)`\n",
      "  dtest.iloc[:, 10] = 1\n"
     ]
    },
    {
     "name": "stdout",
     "output_type": "stream",
     "text": [
      "0.13544921875000002\n"
     ]
    }
   ],
   "source": [
    "#17\n",
    "import random\n",
    "import pandas as pd\n",
    "import numpy as np\n",
    "from liblinear.liblinearutil import *\n",
    "\n",
    "dtrain = pd.read_table('hw4_train.dat', header=None)\n",
    "dtest = pd.read_table('hw4_test.dat', header=None)\n",
    "y_train = dtrain[10]\n",
    "y_test = dtest[10]\n",
    "dtrain.iloc[:, 10] = 1\n",
    "dtest.iloc[:, 10] = 1\n",
    "\n",
    "dtrain = _transform_withoutconst(dtrain)\n",
    "dtest = _transform_withoutconst(dtest)\n",
    "\n",
    "dtrain[len(dtrain.columns)] = y_train\n",
    "dtest[len(dtest.columns)] = y_test\n",
    "y_test = dtest[len(dtest.columns)-1].tolist()\n",
    "x_test = dtest.iloc[:,0:len(dtest.columns)-1].values.tolist()\n",
    "#print(dtrain)\n",
    "cv_err = 0\n",
    "v = 5\n",
    "for _ in range(256):\n",
    "    random.seed(_)\n",
    "    draw_train = random.sample(range(0, 200), 200)\n",
    "    fold = [draw_train[0:40],draw_train[40:80],draw_train[80:120],draw_train[120:160],draw_train[160:200]]\n",
    "    \n",
    "    #print(x_train)\n",
    "    lamda_list = [-6, -3, 0, 3, 6]\n",
    "    best_lamda = -1\n",
    "    err = 1000000000\n",
    "    for ln_lamda in lamda_list:\n",
    "        \n",
    "        lamda = pow(10, ln_lamda)\n",
    "        option = '-s 0 -c '+str(1/2/lamda)+' -e 0.000001'\n",
    "        diff_count = 0\n",
    "        for f in range(5):\n",
    "            rest_f = [i for i in range(200) if i not in fold[f]]\n",
    "            #print(fold[f])\n",
    "            data_train = dtrain.iloc[rest_f, :]\n",
    "            data_val = dtrain.iloc[fold[f],:]\n",
    "\n",
    "            y_train = data_train[len(data_train.columns)-1].tolist()\n",
    "            y_val = data_val[len(data_val.columns)-1].tolist()\n",
    "            x_train = data_train.iloc[:,0:len(data_train.columns)-1].values.tolist()\n",
    "            x_val = data_val.iloc[:,0:len(data_val.columns)-1].values.tolist()\n",
    "            \n",
    "            model_17 = train(y_train, x_train, option)\n",
    "            p_label, p_acc, p_val = predict(y_val, x_val, model_17,'-q')\n",
    "            \n",
    "            for j in range(len(p_label)):\n",
    "                if p_label[j] != y_val[j]:\n",
    "                    diff_count += 1\n",
    "                    \n",
    "        if diff_count/len(y_val)/v <= err:\n",
    "            err = diff_count/len(y_val)/v\n",
    "            best_lamda = ln_lamda\n",
    "    cv_err += err\n",
    "    \n",
    "print(cv_err/256)\n",
    "#0.12968750000000004"
   ]
  },
  {
   "cell_type": "code",
   "execution_count": null,
   "id": "c129ab84",
   "metadata": {},
   "outputs": [],
   "source": []
  }
 ],
 "metadata": {
  "@webio": {
   "lastCommId": null,
   "lastKernelId": null
  },
  "kernelspec": {
   "display_name": "Python 3 (ipykernel)",
   "language": "python",
   "name": "python3"
  },
  "language_info": {
   "codemirror_mode": {
    "name": "ipython",
    "version": 3
   },
   "file_extension": ".py",
   "mimetype": "text/x-python",
   "name": "python",
   "nbconvert_exporter": "python",
   "pygments_lexer": "ipython3",
   "version": "3.8.5"
  }
 },
 "nbformat": 4,
 "nbformat_minor": 5
}
